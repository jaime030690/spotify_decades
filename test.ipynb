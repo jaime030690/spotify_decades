{
 "nbformat": 4,
 "nbformat_minor": 2,
 "metadata": {
  "language_info": {
   "name": "python",
   "codemirror_mode": {
    "name": "ipython",
    "version": 3
   },
   "version": "3.7.4-final"
  },
  "orig_nbformat": 2,
  "file_extension": ".py",
  "mimetype": "text/x-python",
  "name": "python",
  "npconvert_exporter": "python",
  "pygments_lexer": "ipython3",
  "version": 3,
  "kernelspec": {
   "name": "python37464bitbasecondaeb15dd16a5f74df4a7bc85322ce0ad17",
   "display_name": "Python 3.7.4 64-bit ('base': conda)"
  }
 },
 "cells": [
  {
   "cell_type": "code",
   "execution_count": 16,
   "metadata": {},
   "outputs": [],
   "source": [
    "import pandas as pd\n",
    "from config import client_id, client_secret\n",
    "import os\n",
    "import spotipy\n",
    "from spotipy.oauth2 import SpotifyClientCredentials\n",
    "\n",
    "os.environ['SPOTIPY_CLIENT_ID'] = client_id\n",
    "os.environ['SPOTIPY_CLIENT_SECRET'] = client_secret"
   ]
  },
  {
   "cell_type": "code",
   "execution_count": 17,
   "metadata": {},
   "outputs": [
    {
     "name": "stdout",
     "output_type": "stream",
     "text": "0 Here Comes The Sun - Remastered 2009\n1 Come Together - Remastered 2009\n2 Let It Be - Remastered 2009\n3 Yesterday - Remastered 2009\n4 Hey Jude - Remastered 2015\n5 Blackbird - Remastered 2009\n6 I Want To Hold Your Hand - Remastered 2015\n7 In My Life - Remastered 2009\n8 Twist And Shout - Remastered 2009\n9 Ob-La-Di, Ob-La-Da - Remastered 2009\n10 Strawberry Fields Forever - Remastered 2009\n11 Something - Remastered 2009\n12 Eleanor Rigby - Remastered 2009\n13 I Saw Her Standing There - Remastered 2009\n14 Help! - Remastered 2009\n15 While My Guitar Gently Weeps - Remastered 2009\n16 Lucy In The Sky With Diamonds - Remastered 2009\n17 Revolution - Remastered 2009\n18 Norwegian Wood (This Bird Has Flown) - Remastered 2009\n19 Oh! Darling - Remastered 2009\n"
    }
   ],
   "source": [
    "sp = spotipy.Spotify(client_credentials_manager = SpotifyClientCredentials())\n",
    "\n",
    "results = sp.search(q ='the beatles', limit = 20)\n",
    "\n",
    "for index, track in enumerate(results['tracks']['items']):\n",
    "    print(index, track['name'])"
   ]
  },
  {
   "cell_type": "code",
   "execution_count": null,
   "metadata": {},
   "outputs": [],
   "source": []
  }
 ]
}