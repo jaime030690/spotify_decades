{
 "nbformat": 4,
 "nbformat_minor": 2,
 "metadata": {
  "language_info": {
   "name": "python",
   "codemirror_mode": {
    "name": "ipython",
    "version": 3
   },
   "version": "3.7.4-final"
  },
  "orig_nbformat": 2,
  "file_extension": ".py",
  "mimetype": "text/x-python",
  "name": "python",
  "npconvert_exporter": "python",
  "pygments_lexer": "ipython3",
  "version": 3,
  "kernelspec": {
   "name": "python37464bitbaseconda7bc3910bbe4a4c1e89b80bb43883e8bc",
   "display_name": "Python 3.7.4 64-bit ('base': conda)"
  }
 },
 "cells": [
  {
   "cell_type": "code",
   "execution_count": 157,
   "metadata": {},
   "outputs": [],
   "source": [
    "# Dependencies\n",
    "import pandas as pd\n",
    "from config import client_id, client_secret\n",
    "from params import key_signatures, modes\n",
    "import os\n",
    "import spotipy\n",
    "from spotipy.oauth2 import SpotifyClientCredentials\n",
    "from pprint import pprint\n",
    "\n",
    "# Load variables to environment\n",
    "os.environ['SPOTIPY_CLIENT_ID'] = client_id\n",
    "os.environ['SPOTIPY_CLIENT_SECRET'] = client_secret"
   ]
  },
  {
   "cell_type": "code",
   "execution_count": 158,
   "metadata": {},
   "outputs": [],
   "source": [
    "# Function to obtain user's input\n",
    "def get_input():\n",
    "\n",
    "    user_input = input('Enter the song URI: ')\n",
    "\n",
    "    return user_input"
   ]
  },
  {
   "cell_type": "code",
   "execution_count": 159,
   "metadata": {},
   "outputs": [],
   "source": [
    "# Function to perform API call and return results in JSON format\n",
    "def get_results(t):\n",
    "\n",
    "    sp = spotipy.Spotify(client_credentials_manager = SpotifyClientCredentials())\n",
    "\n",
    "    results = sp.audio_features(t)\n",
    "\n",
    "    return results"
   ]
  },
  {
   "cell_type": "code",
   "execution_count": 160,
   "metadata": {},
   "outputs": [],
   "source": [
    "# Function to find the key signature of the song. Takes in a JSON file and parses out the mode then the key\n",
    "def key_finder(api_request):\n",
    "\n",
    "    for key, value in modes.items():\n",
    "        if api_request[0]['mode'] == key:\n",
    "            m = value\n",
    "\n",
    "    for key, value in key_signatures.items():\n",
    "        if api_request[0]['key'] == key:\n",
    "            k = value[api_request[0]['mode']]\n",
    "    \n",
    "    return k + \" \" + m"
   ]
  },
  {
   "cell_type": "code",
   "execution_count": 161,
   "metadata": {},
   "outputs": [],
   "source": [
    "# Function to find the time signature of the song. Takes in a JSON file and returns the time signature\n",
    "def time_finder(api_request):\n",
    "\n",
    "    t = str(api_request[0]['time_signature'])\n",
    "\n",
    "    return t + '/4'"
   ]
  },
  {
   "cell_type": "code",
   "execution_count": 162,
   "metadata": {},
   "outputs": [
    {
     "name": "stdout",
     "output_type": "stream",
     "text": "Bb major\n4/4\n"
    }
   ],
   "source": [
    "get_results(get_input())\n",
    "print(key_finder(results))\n",
    "print(time_finder(results))"
   ]
  },
  {
   "cell_type": "code",
   "execution_count": null,
   "metadata": {},
   "outputs": [],
   "source": []
  }
 ]
}