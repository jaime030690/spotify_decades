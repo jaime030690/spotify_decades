{
 "nbformat": 4,
 "nbformat_minor": 2,
 "metadata": {
  "language_info": {
   "name": "python",
   "codemirror_mode": {
    "name": "ipython",
    "version": 3
   },
   "version": "3.7.4-final"
  },
  "orig_nbformat": 2,
  "file_extension": ".py",
  "mimetype": "text/x-python",
  "name": "python",
  "npconvert_exporter": "python",
  "pygments_lexer": "ipython3",
  "version": 3,
  "kernelspec": {
   "name": "python37464bitbasecondaeb15dd16a5f74df4a7bc85322ce0ad17",
   "display_name": "Python 3.7.4 64-bit ('base': conda)"
  }
 },
 "cells": [
  {
   "cell_type": "code",
   "execution_count": 79,
   "metadata": {},
   "outputs": [],
   "source": [
    "import pandas as pd\n",
    "from config import client_id, client_secret\n",
    "import os\n",
    "import spotipy\n",
    "from spotipy.oauth2 import SpotifyClientCredentials\n",
    "from pprint import pprint\n",
    "\n",
    "key_signatures = {\n",
    "    0: 'C',\n",
    "    1: 'C#/Db',\n",
    "    2: 'D',\n",
    "    3: 'Eb',\n",
    "    4: 'E',\n",
    "    5: 'F',\n",
    "    6: 'F#/Gb',\n",
    "    7: 'G',\n",
    "    8: 'Ab',\n",
    "    9: 'A',\n",
    "    10: 'Bb', \n",
    "    11: 'B'\n",
    "}\n",
    "\n",
    "modes = {\n",
    "    0: 'minor',\n",
    "    1: 'major'\n",
    "}\n",
    "\n",
    "os.environ['SPOTIPY_CLIENT_ID'] = client_id\n",
    "os.environ['SPOTIPY_CLIENT_SECRET'] = client_secret"
   ]
  },
  {
   "cell_type": "code",
   "execution_count": 88,
   "metadata": {},
   "outputs": [
    {
     "name": "stdout",
     "output_type": "stream",
     "text": "[{'acousticness': 0.605,\n  'analysis_url': 'https://api.spotify.com/v1/audio-analysis/70C4NyhjD5OZUMzvWZ3njJ',\n  'danceability': 0.331,\n  'duration_ms': 339000,\n  'energy': 0.55,\n  'id': '70C4NyhjD5OZUMzvWZ3njJ',\n  'instrumentalness': 3.96e-06,\n  'key': 0,\n  'liveness': 0.192,\n  'loudness': -6.483,\n  'mode': 1,\n  'speechiness': 0.0272,\n  'tempo': 177.734,\n  'time_signature': 3,\n  'track_href': 'https://api.spotify.com/v1/tracks/70C4NyhjD5OZUMzvWZ3njJ',\n  'type': 'audio_features',\n  'uri': 'spotify:track:70C4NyhjD5OZUMzvWZ3njJ',\n  'valence': 0.429}]\n"
    }
   ],
   "source": [
    "sp = spotipy.Spotify(client_credentials_manager = SpotifyClientCredentials())\n",
    "\n",
    "track_id = 'spotify:track:70C4NyhjD5OZUMzvWZ3njJ'\n",
    "\n",
    "results = sp.audio_features(track_id)\n",
    "\n",
    "pprint(results)"
   ]
  },
  {
   "cell_type": "code",
   "execution_count": 89,
   "metadata": {},
   "outputs": [
    {
     "name": "stdout",
     "output_type": "stream",
     "text": "C major\n3/4\n"
    }
   ],
   "source": [
    "for key, value in key_signatures.items():\n",
    "    if results[0]['key'] == key:\n",
    "        key_signature = value\n",
    "\n",
    "for key, value in modes.items():\n",
    "    if results[0]['mode'] == key:\n",
    "        mode = value\n",
    "\n",
    "\n",
    "print(key_signature + \" \" + mode)\n",
    "print(str(results[0]['time_signature']) + '/4')"
   ]
  },
  {
   "cell_type": "code",
   "execution_count": null,
   "metadata": {},
   "outputs": [],
   "source": []
  }
 ]
}