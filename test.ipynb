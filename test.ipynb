{
 "nbformat": 4,
 "nbformat_minor": 2,
 "metadata": {
  "language_info": {
   "name": "python",
   "codemirror_mode": {
    "name": "ipython",
    "version": 3
   },
   "version": "3.7.4-final"
  },
  "orig_nbformat": 2,
  "file_extension": ".py",
  "mimetype": "text/x-python",
  "name": "python",
  "npconvert_exporter": "python",
  "pygments_lexer": "ipython3",
  "version": 3,
  "kernelspec": {
   "name": "python37464bitbasecondaeb15dd16a5f74df4a7bc85322ce0ad17",
   "display_name": "Python 3.7.4 64-bit ('base': conda)"
  }
 },
 "cells": [
  {
   "cell_type": "code",
   "execution_count": 1,
   "metadata": {},
   "outputs": [],
   "source": [
    "import pandas as pd\n",
    "from config import client_id, client_secret, token\n",
    "import requests\n",
    "import json\n",
    "from pprint import pprint\n",
    "import spotipy"
   ]
  },
  {
   "cell_type": "code",
   "execution_count": 6,
   "metadata": {},
   "outputs": [
    {
     "name": "stdout",
     "output_type": "stream",
     "text": "{'error': {'message': 'No token provided', 'status': 401}}\n"
    }
   ],
   "source": [
    "audio_analysis_url = 'https://api.spotify.com/v1/audio-analysis/'\n",
    "song_uri = 'spotify:track:4TIJ7zSBNejpoIPaWpWRKc'\n",
    "\n",
    "spotify = spotipy.Spotify()\n",
    "results = spotify."
   ]
  },
  {
   "cell_type": "code",
   "execution_count": null,
   "metadata": {},
   "outputs": [],
   "source": []
  }
 ]
}