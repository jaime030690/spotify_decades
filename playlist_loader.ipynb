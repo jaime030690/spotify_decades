{
 "nbformat": 4,
 "nbformat_minor": 2,
 "metadata": {
  "language_info": {
   "name": "python",
   "codemirror_mode": {
    "name": "ipython",
    "version": 3
   },
   "version": "3.7.4-final"
  },
  "orig_nbformat": 2,
  "file_extension": ".py",
  "mimetype": "text/x-python",
  "name": "python",
  "npconvert_exporter": "python",
  "pygments_lexer": "ipython3",
  "version": 3,
  "kernelspec": {
   "name": "python37464bitbasecondaeb15dd16a5f74df4a7bc85322ce0ad17",
   "display_name": "Python 3.7.4 64-bit ('base': conda)"
  }
 },
 "cells": [
  {
   "cell_type": "code",
   "execution_count": 10,
   "metadata": {},
   "outputs": [],
   "source": [
    "# Dependencies.\n",
    "import pandas as pd\n",
    "from config import client_id, client_secret\n",
    "from params import key_signatures, modes, key_int\n",
    "from playlists import playlists\n",
    "import os\n",
    "import spotipy\n",
    "from spotipy.oauth2 import SpotifyClientCredentials\n",
    "from pprint import pprint\n",
    "import numpy as np\n",
    "\n",
    "# Load variables to environment.\n",
    "os.environ['SPOTIPY_CLIENT_ID'] = client_id\n",
    "os.environ['SPOTIPY_CLIENT_SECRET'] = client_secret\n",
    "\n",
    "sp = spotipy.Spotify(client_credentials_manager = SpotifyClientCredentials())"
   ]
  },
  {
   "cell_type": "code",
   "execution_count": 11,
   "metadata": {},
   "outputs": [],
   "source": [
    "# Function to obtain user's input.\n",
    "def get_input():\n",
    "\n",
    "    user_input = input('Enter the playlist URI: ')\n",
    "\n",
    "    return user_input"
   ]
  },
  {
   "cell_type": "code",
   "execution_count": 12,
   "metadata": {},
   "outputs": [],
   "source": [
    "# Function to perform API call and return results in JSON format.\n",
    "def get_results(t, o):\n",
    "\n",
    "    # Check if string contains 'https', the ref['next'] will contain this if the list has more than 100 songs.\n",
    "    if 'https' in t:\n",
    "\n",
    "        # Split the string in URL using '/'\n",
    "        split = t.split('/')\n",
    "\n",
    "        # Split list index 5 will contain part of URI, multiple o by 100 for the offset in the function call.\n",
    "        results = sp.playlist_tracks('spotify:playlist:' + split[5], offset = o * 100)\n",
    "\n",
    "    else:\n",
    "        results = sp.playlist_tracks(t)\n",
    "\n",
    "    return results"
   ]
  },
  {
   "cell_type": "code",
   "execution_count": 13,
   "metadata": {},
   "outputs": [],
   "source": [
    "# Function to create dict with data.\n",
    "def create_df(results):\n",
    "\n",
    "    # Empty dict to hold data from Spotify.\n",
    "    data = {\n",
    "        'track': [],\n",
    "        'artist': [],\n",
    "        'year': [],\n",
    "        'uri': []\n",
    "    }\n",
    "\n",
    "    # Loop control.\n",
    "    loop = True\n",
    "\n",
    "    # Results as json object.\n",
    "    ref = results\n",
    "\n",
    "    # Offset variable.\n",
    "    offset = 0\n",
    "\n",
    "    while loop:\n",
    "\n",
    "        # Adds values to dict.\n",
    "        for song in ref['items']:\n",
    "            data['track'].append(song['track']['name'])\n",
    "            data['artist'].append(song['track']['artists'][0]['name'])\n",
    "            data['year'].append(get_year(song['track']))\n",
    "            data['uri'].append(song['track']['uri'])\n",
    "\n",
    "        # Check for ref['next'], if there's text then playlist has more items.\n",
    "        if ref['next'] is not None:\n",
    "            offset += 1\n",
    "            ref = get_results(ref['next'], offset)\n",
    "        \n",
    "        # Terminate loop.\n",
    "        else:\n",
    "            loop = False\n",
    "\n",
    "    return pd.DataFrame(data)"
   ]
  },
  {
   "cell_type": "code",
   "execution_count": 14,
   "metadata": {},
   "outputs": [],
   "source": [
    "# Function to perform API call for audio features and return results in JSON format.\n",
    "def get_features(t):\n",
    "\n",
    "    results = sp.audio_features(t)\n",
    "\n",
    "    return results"
   ]
  },
  {
   "cell_type": "code",
   "execution_count": 15,
   "metadata": {},
   "outputs": [],
   "source": [
    "# Function to find the time key signatures of the song.\n",
    "def features_finder(results):\n",
    "\n",
    "    try:\n",
    "\n",
    "        m = results[0]['mode']\n",
    "\n",
    "        k = results[0]['key']\n",
    "\n",
    "        t = results[0]['time_signature']\n",
    "\n",
    "        b = results[0]['tempo']\n",
    "    \n",
    "    except Error:\n",
    "        \n",
    "        return np.NaN, np.NaN, np.NaN, np.NaN\n",
    "    \n",
    "    return m, k, t, b"
   ]
  },
  {
   "cell_type": "code",
   "execution_count": 16,
   "metadata": {},
   "outputs": [],
   "source": [
    "# Function to return the year of release as an int.\n",
    "def get_year(t):\n",
    "\n",
    "    results = sp.album(t['album']['uri'])\n",
    "    date = results['release_date']\n",
    "    year = int(date[0:4])\n",
    "    return year"
   ]
  },
  {
   "cell_type": "code",
   "execution_count": 17,
   "metadata": {},
   "outputs": [],
   "source": [
    "# Function to save dataframe as csv\n",
    "def export_dataframe(key, val):\n",
    "\n",
    "    results = get_results(val, 1)\n",
    "    df = create_df(results)\n",
    "\n",
    "    uris = list(df['uri'])\n",
    "\n",
    "    md_col = []\n",
    "    ks_col = []\n",
    "    kint_col = []\n",
    "    ts_col = []\n",
    "    bpm_col = []\n",
    "\n",
    "    for uri in uris:\n",
    "        response = get_features(uri)\n",
    "        md, ks, ts, bpm = features_finder(response)\n",
    "\n",
    "        md_col.append(md)\n",
    "        ks_col.append(ks)\n",
    "        kint_col.append(key_int[md][ks])\n",
    "        ts_col.append(ts)\n",
    "        bpm_col.append(bpm)\n",
    "\n",
    "\n",
    "    df['mode'] = md_col\n",
    "    df['key_signature'] = ks_col\n",
    "    df['key_integer'] = kint_col\n",
    "    df['time_signature'] = ts_col\n",
    "    df['bpm'] = bpm_col\n",
    "\n",
    "\n",
    "    df = df.dropna()\n",
    "    df.to_csv('output/' + key + '.csv', index = False)"
   ]
  },
  {
   "cell_type": "code",
   "execution_count": 18,
   "metadata": {},
   "outputs": [
    {
     "name": "stdout",
     "output_type": "stream",
     "text": "retrying ...1secs\nretrying ...3secs\nretrying ...1secs\nretrying ...2secs\nretrying ...1secs\nretrying ...2secs\nretrying ...4secs\nDone!\n"
    }
   ],
   "source": [
    "for playlist in playlists:\n",
    "    export_dataframe(playlist, playlists[playlist])\n",
    "\n",
    "print('Done!')"
   ]
  },
  {
   "cell_type": "code",
   "execution_count": null,
   "metadata": {},
   "outputs": [],
   "source": []
  }
 ]
}