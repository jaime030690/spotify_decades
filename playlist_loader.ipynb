{
 "nbformat": 4,
 "nbformat_minor": 2,
 "metadata": {
  "language_info": {
   "name": "python",
   "codemirror_mode": {
    "name": "ipython",
    "version": 3
   },
   "version": "3.7.4-final"
  },
  "orig_nbformat": 2,
  "file_extension": ".py",
  "mimetype": "text/x-python",
  "name": "python",
  "npconvert_exporter": "python",
  "pygments_lexer": "ipython3",
  "version": 3,
  "kernelspec": {
   "name": "python37464bitbaseconda7bc3910bbe4a4c1e89b80bb43883e8bc",
   "display_name": "Python 3.7.4 64-bit ('base': conda)"
  }
 },
 "cells": [
  {
   "cell_type": "code",
   "execution_count": 228,
   "metadata": {},
   "outputs": [],
   "source": [
    "# Dependencies.\n",
    "import pandas as pd\n",
    "from config import client_id, client_secret\n",
    "from params import key_signatures, modes, key_int\n",
    "import os\n",
    "import spotipy\n",
    "from spotipy.oauth2 import SpotifyClientCredentials\n",
    "from pprint import pprint\n",
    "import numpy as np\n",
    "\n",
    "# Load variables to environment.\n",
    "os.environ['SPOTIPY_CLIENT_ID'] = client_id\n",
    "os.environ['SPOTIPY_CLIENT_SECRET'] = client_secret\n",
    "\n",
    "sp = spotipy.Spotify(client_credentials_manager = SpotifyClientCredentials())"
   ]
  },
  {
   "cell_type": "code",
   "execution_count": 229,
   "metadata": {},
   "outputs": [],
   "source": [
    "# Function to obtain user's input.\n",
    "def get_input():\n",
    "\n",
    "    user_input = input('Enter the playlist URI: ')\n",
    "\n",
    "    return user_input"
   ]
  },
  {
   "cell_type": "code",
   "execution_count": 230,
   "metadata": {},
   "outputs": [],
   "source": [
    "# Function to perform API call and return results in JSON format.\n",
    "def get_results(t, o):\n",
    "\n",
    "    # Check if string contains 'https', the ref['next'] will contain this if the list has more than 100 songs.\n",
    "    if 'https' in t:\n",
    "\n",
    "        # Split the string in URL using '/'\n",
    "        split = t.split('/')\n",
    "\n",
    "        # Split list index 5 will contain part of URI, multiple o by 100 for the offset in the function call.\n",
    "        results = sp.playlist_tracks('spotify:playlist:' + split[5], offset = o * 100)\n",
    "\n",
    "    else:\n",
    "        results = sp.playlist_tracks(t)\n",
    "\n",
    "    return results"
   ]
  },
  {
   "cell_type": "code",
   "execution_count": 231,
   "metadata": {},
   "outputs": [],
   "source": [
    "# Function to create dict with data.\n",
    "def create_df(results):\n",
    "\n",
    "    # Empty dict to hold data from Spotify.\n",
    "    data = {\n",
    "        'track': [],\n",
    "        'artist': [],\n",
    "        'year': [],\n",
    "        'uri': []\n",
    "    }\n",
    "\n",
    "    # Loop control.\n",
    "    loop = True\n",
    "\n",
    "    # Results as json object.\n",
    "    ref = results\n",
    "\n",
    "    # Offset variable.\n",
    "    offset = 0\n",
    "\n",
    "    while loop:\n",
    "\n",
    "        # Adds values to dict.\n",
    "        for song in ref['items']:\n",
    "            data['track'].append(song['track']['name'])\n",
    "            data['artist'].append(song['track']['artists'][0]['name'])\n",
    "            data['year'].append(get_year(song['track']))\n",
    "            data['uri'].append(song['track']['uri'])\n",
    "\n",
    "        # Check for ref['next'], if there's text then playlist has more items.\n",
    "        if ref['next'] is not None:\n",
    "            offset += 1\n",
    "            ref = get_results(ref['next'], offset)\n",
    "        \n",
    "        # Terminate loop.\n",
    "        else:\n",
    "            loop = False\n",
    "\n",
    "    return pd.DataFrame(data)"
   ]
  },
  {
   "cell_type": "code",
   "execution_count": 232,
   "metadata": {},
   "outputs": [],
   "source": [
    "# Function to perform API call for audio features and return results in JSON format.\n",
    "def get_features(t):\n",
    "\n",
    "    results = sp.audio_features(t)\n",
    "\n",
    "    return results"
   ]
  },
  {
   "cell_type": "code",
   "execution_count": 233,
   "metadata": {},
   "outputs": [],
   "source": [
    "# Function to find the time key signatures of the song.\n",
    "def features_finder(results):\n",
    "\n",
    "    try:\n",
    "\n",
    "        m = results[0]['mode']\n",
    "\n",
    "        k = results[0]['key']\n",
    "\n",
    "        t = results[0]['time_signature']\n",
    "\n",
    "        b = results[0]['tempo']\n",
    "    \n",
    "    except Error:\n",
    "        \n",
    "        return np.NaN, np.NaN, np.NaN, np.NaN\n",
    "    \n",
    "    return m, k, t, b"
   ]
  },
  {
   "cell_type": "code",
   "execution_count": 234,
   "metadata": {},
   "outputs": [],
   "source": [
    "# Function to return the year of release as an int.\n",
    "def get_year(t):\n",
    "\n",
    "    results = sp.album(t['album']['uri'])\n",
    "    date = results['release_date']\n",
    "    year = int(date[0:4])\n",
    "    return year"
   ]
  },
  {
   "cell_type": "code",
   "execution_count": 235,
   "metadata": {},
   "outputs": [
    {
     "data": {
      "text/html": "<div>\n<style scoped>\n    .dataframe tbody tr th:only-of-type {\n        vertical-align: middle;\n    }\n\n    .dataframe tbody tr th {\n        vertical-align: top;\n    }\n\n    .dataframe thead th {\n        text-align: right;\n    }\n</style>\n<table border=\"1\" class=\"dataframe\">\n  <thead>\n    <tr style=\"text-align: right;\">\n      <th></th>\n      <th>track</th>\n      <th>artist</th>\n      <th>year</th>\n      <th>uri</th>\n      <th>mode</th>\n      <th>key_signature</th>\n      <th>key_integer</th>\n      <th>time_signature</th>\n      <th>bpm</th>\n    </tr>\n  </thead>\n  <tbody>\n    <tr>\n      <td>0</td>\n      <td>Walk</td>\n      <td>Pantera</td>\n      <td>1992</td>\n      <td>spotify:track:7fcfNW0XxTWlwVlftzfDOR</td>\n      <td>0</td>\n      <td>1</td>\n      <td>4</td>\n      <td>4</td>\n      <td>118.242</td>\n    </tr>\n    <tr>\n      <td>1</td>\n      <td>Master Of Puppets</td>\n      <td>Metallica</td>\n      <td>1986</td>\n      <td>spotify:track:2MuWTIM3b0YEAskbeeFE1i</td>\n      <td>0</td>\n      <td>4</td>\n      <td>1</td>\n      <td>4</td>\n      <td>105.173</td>\n    </tr>\n    <tr>\n      <td>2</td>\n      <td>Raining Blood</td>\n      <td>Slayer</td>\n      <td>1986</td>\n      <td>spotify:track:4fiOTntQKr24p07FvQDHZE</td>\n      <td>0</td>\n      <td>10</td>\n      <td>-5</td>\n      <td>4</td>\n      <td>87.499</td>\n    </tr>\n    <tr>\n      <td>3</td>\n      <td>Duality</td>\n      <td>Slipknot</td>\n      <td>2004</td>\n      <td>spotify:track:61mWefnWQOLf90gepjOCb3</td>\n      <td>0</td>\n      <td>4</td>\n      <td>1</td>\n      <td>4</td>\n      <td>143.772</td>\n    </tr>\n    <tr>\n      <td>4</td>\n      <td>The Trooper - 2015 Remaster</td>\n      <td>Iron Maiden</td>\n      <td>1983</td>\n      <td>spotify:track:4OROzZUy6gOWN4UGQVaZMF</td>\n      <td>0</td>\n      <td>4</td>\n      <td>1</td>\n      <td>4</td>\n      <td>159.756</td>\n    </tr>\n    <tr>\n      <td>...</td>\n      <td>...</td>\n      <td>...</td>\n      <td>...</td>\n      <td>...</td>\n      <td>...</td>\n      <td>...</td>\n      <td>...</td>\n      <td>...</td>\n      <td>...</td>\n    </tr>\n    <tr>\n      <td>72</td>\n      <td>The Sound Of Truth</td>\n      <td>As I Lay Dying</td>\n      <td>2007</td>\n      <td>spotify:track:7lYrz70DntWR7o8Sqfz0Ok</td>\n      <td>0</td>\n      <td>2</td>\n      <td>-1</td>\n      <td>4</td>\n      <td>165.018</td>\n    </tr>\n    <tr>\n      <td>73</td>\n      <td>1000hp</td>\n      <td>Godsmack</td>\n      <td>2014</td>\n      <td>spotify:track:3NW1h8l6EY5N6HNBL83S4V</td>\n      <td>0</td>\n      <td>6</td>\n      <td>3</td>\n      <td>4</td>\n      <td>92.091</td>\n    </tr>\n    <tr>\n      <td>74</td>\n      <td>The American Way</td>\n      <td>Sacred Reich</td>\n      <td>1990</td>\n      <td>spotify:track:2SA2tTWoELC0ciMuYRfbpT</td>\n      <td>1</td>\n      <td>0</td>\n      <td>0</td>\n      <td>4</td>\n      <td>148.524</td>\n    </tr>\n    <tr>\n      <td>75</td>\n      <td>Elimination</td>\n      <td>Overkill</td>\n      <td>1989</td>\n      <td>spotify:track:6lWFQo5NuR3y8Q6CHIRatA</td>\n      <td>0</td>\n      <td>6</td>\n      <td>3</td>\n      <td>4</td>\n      <td>112.766</td>\n    </tr>\n    <tr>\n      <td>76</td>\n      <td>Are You Dead Yet</td>\n      <td>Children Of Bodom</td>\n      <td>2005</td>\n      <td>spotify:track:2T2vudIHfVMA5ychWTU3KA</td>\n      <td>1</td>\n      <td>8</td>\n      <td>-4</td>\n      <td>4</td>\n      <td>96.003</td>\n    </tr>\n  </tbody>\n</table>\n<p>77 rows × 9 columns</p>\n</div>",
      "text/plain": "                          track             artist  year  \\\n0                          Walk            Pantera  1992   \n1             Master Of Puppets          Metallica  1986   \n2                 Raining Blood             Slayer  1986   \n3                       Duality           Slipknot  2004   \n4   The Trooper - 2015 Remaster        Iron Maiden  1983   \n..                          ...                ...   ...   \n72           The Sound Of Truth     As I Lay Dying  2007   \n73                       1000hp           Godsmack  2014   \n74             The American Way       Sacred Reich  1990   \n75                  Elimination           Overkill  1989   \n76             Are You Dead Yet  Children Of Bodom  2005   \n\n                                     uri  mode  key_signature  key_integer  \\\n0   spotify:track:7fcfNW0XxTWlwVlftzfDOR     0              1            4   \n1   spotify:track:2MuWTIM3b0YEAskbeeFE1i     0              4            1   \n2   spotify:track:4fiOTntQKr24p07FvQDHZE     0             10           -5   \n3   spotify:track:61mWefnWQOLf90gepjOCb3     0              4            1   \n4   spotify:track:4OROzZUy6gOWN4UGQVaZMF     0              4            1   \n..                                   ...   ...            ...          ...   \n72  spotify:track:7lYrz70DntWR7o8Sqfz0Ok     0              2           -1   \n73  spotify:track:3NW1h8l6EY5N6HNBL83S4V     0              6            3   \n74  spotify:track:2SA2tTWoELC0ciMuYRfbpT     1              0            0   \n75  spotify:track:6lWFQo5NuR3y8Q6CHIRatA     0              6            3   \n76  spotify:track:2T2vudIHfVMA5ychWTU3KA     1              8           -4   \n\n    time_signature      bpm  \n0                4  118.242  \n1                4  105.173  \n2                4   87.499  \n3                4  143.772  \n4                4  159.756  \n..             ...      ...  \n72               4  165.018  \n73               4   92.091  \n74               4  148.524  \n75               4  112.766  \n76               4   96.003  \n\n[77 rows x 9 columns]"
     },
     "execution_count": 235,
     "metadata": {},
     "output_type": "execute_result"
    }
   ],
   "source": [
    "results = get_results(get_input(), 1)\n",
    "df = create_df(results)\n",
    "\n",
    "uris = list(df['uri'])\n",
    "\n",
    "md_col = []\n",
    "ks_col = []\n",
    "kint_col = []\n",
    "ts_col = []\n",
    "bpm_col = []\n",
    "\n",
    "for uri in uris:\n",
    "    response = get_features(uri)\n",
    "    md, ks, ts, bpm = features_finder(response)\n",
    "\n",
    "    md_col.append(md)\n",
    "    ks_col.append(ks)\n",
    "    kint_col.append(key_int[md][ks])\n",
    "    ts_col.append(ts)\n",
    "    bpm_col.append(bpm)\n",
    "\n",
    "\n",
    "df['mode'] = md_col\n",
    "df['key_signature'] = ks_col\n",
    "df['key_integer'] = kint_col\n",
    "df['time_signature'] = ts_col\n",
    "df['bpm'] = bpm_col\n",
    "\n",
    "\n",
    "df = df.dropna()\n",
    "df"
   ]
  },
  {
   "cell_type": "code",
   "execution_count": 236,
   "metadata": {},
   "outputs": [],
   "source": [
    "df.to_csv('output.csv', index = False)"
   ]
  },
  {
   "cell_type": "code",
   "execution_count": null,
   "metadata": {},
   "outputs": [],
   "source": []
  }
 ]
}