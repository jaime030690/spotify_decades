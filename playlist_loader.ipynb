{
 "nbformat": 4,
 "nbformat_minor": 2,
 "metadata": {
  "language_info": {
   "name": "python",
   "codemirror_mode": {
    "name": "ipython",
    "version": 3
   },
   "version": "3.7.4-final"
  },
  "orig_nbformat": 2,
  "file_extension": ".py",
  "mimetype": "text/x-python",
  "name": "python",
  "npconvert_exporter": "python",
  "pygments_lexer": "ipython3",
  "version": 3,
  "kernelspec": {
   "name": "python37464bitprogramdatavirtualenv86dc951626c44ec5af4f80925084b414",
   "display_name": "Python 3.7.4 64-bit ('ProgramData': virtualenv)"
  }
 },
 "cells": [
  {
   "cell_type": "code",
   "execution_count": 1,
   "metadata": {},
   "outputs": [],
   "source": [
    "# Dependencies.\n",
    "import pandas as pd\n",
    "from config import client_id, client_secret\n",
    "from params import key_signatures, modes, key_int\n",
    "import os\n",
    "import spotipy\n",
    "from spotipy.oauth2 import SpotifyClientCredentials\n",
    "from pprint import pprint\n",
    "import numpy as np\n",
    "\n",
    "# Load variables to environment.\n",
    "os.environ['SPOTIPY_CLIENT_ID'] = client_id\n",
    "os.environ['SPOTIPY_CLIENT_SECRET'] = client_secret"
   ]
  },
  {
   "cell_type": "code",
   "execution_count": 2,
   "metadata": {},
   "outputs": [],
   "source": [
    "# Function to obtain user's input.\n",
    "def get_input():\n",
    "\n",
    "    user_input = input('Enter the playlist URI: ')\n",
    "\n",
    "    return user_input"
   ]
  },
  {
   "cell_type": "code",
   "execution_count": 3,
   "metadata": {},
   "outputs": [],
   "source": [
    "# Function to perform API call and return results in JSON format.\n",
    "def get_results(t, o):\n",
    "\n",
    "    sp = spotipy.Spotify(client_credentials_manager = SpotifyClientCredentials())\n",
    "\n",
    "    # Check if string contains 'https', the ref['next'] will contain this if the list has more than 100 songs.\n",
    "    if 'https' in t:\n",
    "\n",
    "        # Split the string in URL using '/'\n",
    "        split = t.split('/')\n",
    "\n",
    "        # Split list index 5 will contain part of URI, multiple o by 100 for the offset in the function call.\n",
    "        results = sp.playlist_tracks('spotify:playlist:' + split[5], offset = o * 100)\n",
    "\n",
    "    else:\n",
    "        results = sp.playlist_tracks(t)\n",
    "\n",
    "    return results"
   ]
  },
  {
   "cell_type": "code",
   "execution_count": 4,
   "metadata": {},
   "outputs": [],
   "source": [
    "# Function to create dict with data.\n",
    "def create_df(results):\n",
    "\n",
    "    # Empty dict to hold data from Spotify.\n",
    "    data = {\n",
    "        'track': [],\n",
    "        'artist': [],\n",
    "        'uri': []\n",
    "    }\n",
    "\n",
    "    # Loop control.\n",
    "    loop = True\n",
    "\n",
    "    # Results as json object.\n",
    "    ref = results\n",
    "\n",
    "    # Offset variable.\n",
    "    offset = 0\n",
    "\n",
    "    while loop:\n",
    "\n",
    "        # Adds values to dict.\n",
    "        for song in ref['items']:\n",
    "            data['track'].append(song['track']['name'])\n",
    "            data['artist'].append(song['track']['artists'][0]['name'])\n",
    "            data['uri'].append(song['track']['uri'])\n",
    "\n",
    "        # Check for ref['next'], if there's text then playlist has more items.\n",
    "        if ref['next'] is not None:\n",
    "            offset += 1\n",
    "            ref = get_results(ref['next'], offset)\n",
    "        \n",
    "        # Terminate loop.\n",
    "        else:\n",
    "            loop = False\n",
    "\n",
    "    return pd.DataFrame(data)"
   ]
  },
  {
   "cell_type": "code",
   "execution_count": 5,
   "metadata": {},
   "outputs": [],
   "source": [
    "# Function to perform API call for audio features and return results in JSON format.\n",
    "def get_features(t):\n",
    "\n",
    "    sp = spotipy.Spotify(client_credentials_manager = SpotifyClientCredentials())\n",
    "\n",
    "    results = sp.audio_features(t)\n",
    "\n",
    "    return results"
   ]
  },
  {
   "cell_type": "code",
   "execution_count": 6,
   "metadata": {},
   "outputs": [],
   "source": [
    "# Function to find the time key signatures of the song.\n",
    "def features_finder(results):\n",
    "\n",
    "    try:\n",
    "\n",
    "        m = results[0]['mode']\n",
    "\n",
    "        k = results[0]['key']\n",
    "\n",
    "        t = results[0]['time_signature']\n",
    "\n",
    "        b = results[0]['tempo']\n",
    "    \n",
    "    except IndexError:\n",
    "        \n",
    "        return np.NaN, np.NaN, np.NaN, np.NaN\n",
    "    \n",
    "    return m, k, t, b"
   ]
  },
  {
   "cell_type": "code",
   "execution_count": 7,
   "metadata": {},
   "outputs": [
    {
     "data": {
      "text/html": "<div>\n<style scoped>\n    .dataframe tbody tr th:only-of-type {\n        vertical-align: middle;\n    }\n\n    .dataframe tbody tr th {\n        vertical-align: top;\n    }\n\n    .dataframe thead th {\n        text-align: right;\n    }\n</style>\n<table border=\"1\" class=\"dataframe\">\n  <thead>\n    <tr style=\"text-align: right;\">\n      <th></th>\n      <th>track</th>\n      <th>artist</th>\n      <th>uri</th>\n      <th>mode</th>\n      <th>key_signature</th>\n      <th>key_integer</th>\n      <th>time_signature</th>\n      <th>bpm</th>\n    </tr>\n  </thead>\n  <tbody>\n    <tr>\n      <td>0</td>\n      <td>Don't Stop Believin'</td>\n      <td>Journey</td>\n      <td>spotify:track:77NNZQSqzLNqh2A9JhLRkg</td>\n      <td>1</td>\n      <td>4</td>\n      <td>4</td>\n      <td>4</td>\n      <td>119.250</td>\n    </tr>\n    <tr>\n      <td>1</td>\n      <td>Any Way You Want It</td>\n      <td>Journey</td>\n      <td>spotify:track:2DyHhPyCZgZzNXn1IrtsTu</td>\n      <td>1</td>\n      <td>7</td>\n      <td>1</td>\n      <td>4</td>\n      <td>138.162</td>\n    </tr>\n    <tr>\n      <td>2</td>\n      <td>Separate Ways (Worlds Apart)</td>\n      <td>Journey</td>\n      <td>spotify:track:2ORySgkn0CbUMFbEoP1wwE</td>\n      <td>0</td>\n      <td>4</td>\n      <td>1</td>\n      <td>4</td>\n      <td>131.446</td>\n    </tr>\n    <tr>\n      <td>3</td>\n      <td>Only the Young</td>\n      <td>Journey</td>\n      <td>spotify:track:5DkORVajfAFyI6PJnFFfng</td>\n      <td>1</td>\n      <td>7</td>\n      <td>1</td>\n      <td>4</td>\n      <td>72.479</td>\n    </tr>\n    <tr>\n      <td>4</td>\n      <td>Ask the Lonely</td>\n      <td>Journey</td>\n      <td>spotify:track:1YVyN4CV9VZGxZNL2PDvpw</td>\n      <td>1</td>\n      <td>0</td>\n      <td>0</td>\n      <td>4</td>\n      <td>128.396</td>\n    </tr>\n    <tr>\n      <td>...</td>\n      <td>...</td>\n      <td>...</td>\n      <td>...</td>\n      <td>...</td>\n      <td>...</td>\n      <td>...</td>\n      <td>...</td>\n      <td>...</td>\n    </tr>\n    <tr>\n      <td>307</td>\n      <td>Rocket - Remastered 2017</td>\n      <td>Def Leppard</td>\n      <td>spotify:track:3HtthIc2aeQzzoffjjw9S5</td>\n      <td>1</td>\n      <td>11</td>\n      <td>5</td>\n      <td>4</td>\n      <td>81.985</td>\n    </tr>\n    <tr>\n      <td>308</td>\n      <td>Hysteria - Remastered 2017</td>\n      <td>Def Leppard</td>\n      <td>spotify:track:772K2oHttS2C7zTCfL9mHC</td>\n      <td>1</td>\n      <td>7</td>\n      <td>1</td>\n      <td>4</td>\n      <td>106.997</td>\n    </tr>\n    <tr>\n      <td>309</td>\n      <td>Rock Of Ages</td>\n      <td>Def Leppard</td>\n      <td>spotify:track:3RnYLgMnh9WOWfB2k0UQUB</td>\n      <td>1</td>\n      <td>4</td>\n      <td>4</td>\n      <td>4</td>\n      <td>105.837</td>\n    </tr>\n    <tr>\n      <td>310</td>\n      <td>Bringin' On The Heartbreak - Remastered 2018</td>\n      <td>Def Leppard</td>\n      <td>spotify:track:3I5BIp1ajVFFi5VpbIbcRO</td>\n      <td>0</td>\n      <td>9</td>\n      <td>0</td>\n      <td>4</td>\n      <td>78.031</td>\n    </tr>\n    <tr>\n      <td>311</td>\n      <td>Never</td>\n      <td>Moving Pictures</td>\n      <td>spotify:track:1O5Cs8QMzeJmU2UOBA6uNR</td>\n      <td>0</td>\n      <td>9</td>\n      <td>0</td>\n      <td>4</td>\n      <td>136.797</td>\n    </tr>\n  </tbody>\n</table>\n<p>312 rows × 8 columns</p>\n</div>",
      "text/plain": "                                            track           artist  \\\n0                            Don't Stop Believin'          Journey   \n1                             Any Way You Want It          Journey   \n2                    Separate Ways (Worlds Apart)          Journey   \n3                                  Only the Young          Journey   \n4                                  Ask the Lonely          Journey   \n..                                            ...              ...   \n307                      Rocket - Remastered 2017      Def Leppard   \n308                    Hysteria - Remastered 2017      Def Leppard   \n309                                  Rock Of Ages      Def Leppard   \n310  Bringin' On The Heartbreak - Remastered 2018      Def Leppard   \n311                                         Never  Moving Pictures   \n\n                                      uri  mode  key_signature  key_integer  \\\n0    spotify:track:77NNZQSqzLNqh2A9JhLRkg     1              4            4   \n1    spotify:track:2DyHhPyCZgZzNXn1IrtsTu     1              7            1   \n2    spotify:track:2ORySgkn0CbUMFbEoP1wwE     0              4            1   \n3    spotify:track:5DkORVajfAFyI6PJnFFfng     1              7            1   \n4    spotify:track:1YVyN4CV9VZGxZNL2PDvpw     1              0            0   \n..                                    ...   ...            ...          ...   \n307  spotify:track:3HtthIc2aeQzzoffjjw9S5     1             11            5   \n308  spotify:track:772K2oHttS2C7zTCfL9mHC     1              7            1   \n309  spotify:track:3RnYLgMnh9WOWfB2k0UQUB     1              4            4   \n310  spotify:track:3I5BIp1ajVFFi5VpbIbcRO     0              9            0   \n311  spotify:track:1O5Cs8QMzeJmU2UOBA6uNR     0              9            0   \n\n     time_signature      bpm  \n0                 4  119.250  \n1                 4  138.162  \n2                 4  131.446  \n3                 4   72.479  \n4                 4  128.396  \n..              ...      ...  \n307               4   81.985  \n308               4  106.997  \n309               4  105.837  \n310               4   78.031  \n311               4  136.797  \n\n[312 rows x 8 columns]"
     },
     "execution_count": 7,
     "metadata": {},
     "output_type": "execute_result"
    }
   ],
   "source": [
    "results = get_results(get_input(), 1)\n",
    "df = create_df(results)\n",
    "\n",
    "uris = list(df['uri'])\n",
    "\n",
    "md_col = []\n",
    "ks_col = []\n",
    "kint_col = []\n",
    "ts_col = []\n",
    "bpm_col = []\n",
    "\n",
    "for uri in uris:\n",
    "    response = get_features(uri)\n",
    "    md, ks, ts, bpm = features_finder(response)\n",
    "\n",
    "    md_col.append(md)\n",
    "    ks_col.append(ks)\n",
    "    kint_col.append(key_int[md][ks])\n",
    "    ts_col.append(ts)\n",
    "    bpm_col.append(bpm)\n",
    "\n",
    "\n",
    "df['mode'] = md_col\n",
    "df['key_signature'] = ks_col\n",
    "df['key_integer'] = kint_col\n",
    "df['time_signature'] = ts_col\n",
    "df['bpm'] = bpm_col\n",
    "\n",
    "\n",
    "df = df.dropna()\n",
    "df"
   ]
  },
  {
   "cell_type": "code",
   "execution_count": 8,
   "metadata": {},
   "outputs": [],
   "source": [
    "df.to_csv('output.csv', index = False)"
   ]
  },
  {
   "cell_type": "code",
   "execution_count": null,
   "metadata": {},
   "outputs": [],
   "source": []
  }
 ]
}