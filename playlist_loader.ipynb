{
 "nbformat": 4,
 "nbformat_minor": 2,
 "metadata": {
  "language_info": {
   "name": "python",
   "codemirror_mode": {
    "name": "ipython",
    "version": 3
   },
   "version": "3.7.4-final"
  },
  "orig_nbformat": 2,
  "file_extension": ".py",
  "mimetype": "text/x-python",
  "name": "python",
  "npconvert_exporter": "python",
  "pygments_lexer": "ipython3",
  "version": 3,
  "kernelspec": {
   "name": "python37464bitbaseconda7bc3910bbe4a4c1e89b80bb43883e8bc",
   "display_name": "Python 3.7.4 64-bit ('base': conda)"
  }
 },
 "cells": [
  {
   "cell_type": "code",
   "execution_count": 177,
   "metadata": {},
   "outputs": [],
   "source": [
    "# Dependencies.\n",
    "import pandas as pd\n",
    "from config import client_id, client_secret\n",
    "from params import key_signatures, modes\n",
    "import os\n",
    "import spotipy\n",
    "from spotipy.oauth2 import SpotifyClientCredentials\n",
    "from pprint import pprint\n",
    "import numpy as np\n",
    "\n",
    "# Load variables to environment.\n",
    "os.environ['SPOTIPY_CLIENT_ID'] = client_id\n",
    "os.environ['SPOTIPY_CLIENT_SECRET'] = client_secret"
   ]
  },
  {
   "cell_type": "code",
   "execution_count": 178,
   "metadata": {},
   "outputs": [],
   "source": [
    "# Function to obtain user's input.\n",
    "def get_input():\n",
    "\n",
    "    user_input = input('Enter the playlist URI: ')\n",
    "\n",
    "    return user_input"
   ]
  },
  {
   "cell_type": "code",
   "execution_count": 179,
   "metadata": {},
   "outputs": [],
   "source": [
    "# Function to perform API call and return results in JSON format.\n",
    "def get_results(t, o):\n",
    "\n",
    "    sp = spotipy.Spotify(client_credentials_manager = SpotifyClientCredentials())\n",
    "\n",
    "    # Check if string contains 'https', the ref['next'] will contain this if the list has more than 100 songs.\n",
    "    if 'https' in t:\n",
    "\n",
    "        # Split the string in URL using '/'\n",
    "        split = t.split('/')\n",
    "\n",
    "        # Split list index 5 will contain part of URI, multiple o by 100 for the offset in the function call.\n",
    "        results = sp.playlist_tracks('spotify:playlist:' + split[5], offset = o * 100)\n",
    "\n",
    "    else:\n",
    "        results = sp.playlist_tracks(t)\n",
    "\n",
    "    return results"
   ]
  },
  {
   "cell_type": "code",
   "execution_count": 180,
   "metadata": {},
   "outputs": [],
   "source": [
    "# Function to create dict with data.\n",
    "def create_df(results):\n",
    "\n",
    "    # Empty dict to hold data from Spotify.\n",
    "    data = {\n",
    "        'title': [],\n",
    "        'artist': [],\n",
    "        'album': [], \n",
    "        'spotify_uri': []\n",
    "    }\n",
    "\n",
    "    # Loop control.\n",
    "    loop = True\n",
    "\n",
    "    # Results as json object.\n",
    "    ref = results\n",
    "\n",
    "    # Offset variable.\n",
    "    offset = 0\n",
    "\n",
    "    while loop:\n",
    "\n",
    "        # Adds values to dict.\n",
    "        for song in ref['items']:\n",
    "            data['title'].append(song['track']['name'])\n",
    "            data['artist'].append(song['track']['artists'][0]['name'])\n",
    "            data['album'].append(song['track']['album']['name'])\n",
    "            data['spotify_uri'].append(song['track']['uri'])\n",
    "\n",
    "        # Check for ref['next'], if there's text then playlist has more items.\n",
    "        if ref['next'] is not None:\n",
    "            offset += 1\n",
    "            ref = get_results(ref['next'], offset)\n",
    "        \n",
    "        # Terminate loop.\n",
    "        else:\n",
    "            loop = False\n",
    "\n",
    "    return pd.DataFrame(data)"
   ]
  },
  {
   "cell_type": "code",
   "execution_count": 181,
   "metadata": {},
   "outputs": [],
   "source": [
    "# Function to perform API call for audio features and return results in JSON format.\n",
    "def get_features(t):\n",
    "\n",
    "    sp = spotipy.Spotify(client_credentials_manager = SpotifyClientCredentials())\n",
    "\n",
    "    results = sp.audio_features(t)\n",
    "\n",
    "    return results"
   ]
  },
  {
   "cell_type": "code",
   "execution_count": 182,
   "metadata": {},
   "outputs": [],
   "source": [
    "# Function to find the time key signatures of the song.\n",
    "def key_time_finder(results):\n",
    "\n",
    "    try:\n",
    "        for key, value in modes.items():\n",
    "            if results[0]['mode'] == key:\n",
    "                m = value\n",
    "\n",
    "        for key, value in key_signatures.items():\n",
    "            if results[0]['key'] == key:\n",
    "                k = value[results[0]['mode']]\n",
    "\n",
    "        t = str(results[0]['time_signature'])\n",
    "    \n",
    "    except IndexError:\n",
    "        \n",
    "        return np.NaN, np.NaN\n",
    "    \n",
    "    return k + \" \" + m, t + '/4'"
   ]
  },
  {
   "cell_type": "code",
   "execution_count": 183,
   "metadata": {},
   "outputs": [
    {
     "data": {
      "text/html": "<div>\n<style scoped>\n    .dataframe tbody tr th:only-of-type {\n        vertical-align: middle;\n    }\n\n    .dataframe tbody tr th {\n        vertical-align: top;\n    }\n\n    .dataframe thead th {\n        text-align: right;\n    }\n</style>\n<table border=\"1\" class=\"dataframe\">\n  <thead>\n    <tr style=\"text-align: right;\">\n      <th></th>\n      <th>title</th>\n      <th>artist</th>\n      <th>album</th>\n      <th>spotify_uri</th>\n      <th>key_signature</th>\n      <th>time_signature</th>\n    </tr>\n  </thead>\n  <tbody>\n    <tr>\n      <td>0</td>\n      <td>I Saw Her Standing There - Remastered 2009</td>\n      <td>The Beatles</td>\n      <td>Please Please Me (Remastered)</td>\n      <td>spotify:track:3KiexfmhxHvG5IgAElmTkd</td>\n      <td>E major</td>\n      <td>4/4</td>\n    </tr>\n    <tr>\n      <td>1</td>\n      <td>Misery - Remastered 2009</td>\n      <td>The Beatles</td>\n      <td>Please Please Me (Remastered)</td>\n      <td>spotify:track:40qXGg5nRbcWzcFb26KWkQ</td>\n      <td>C major</td>\n      <td>4/4</td>\n    </tr>\n    <tr>\n      <td>2</td>\n      <td>Anna (Go To Him) - Remastered 2009</td>\n      <td>The Beatles</td>\n      <td>Please Please Me (Remastered)</td>\n      <td>spotify:track:2baEFuU0gQon0hgVRioI1o</td>\n      <td>D major</td>\n      <td>4/4</td>\n    </tr>\n    <tr>\n      <td>3</td>\n      <td>Chains - Remastered 2009</td>\n      <td>The Beatles</td>\n      <td>Please Please Me (Remastered)</td>\n      <td>spotify:track:3JQWLa88R35d971o5bIImd</td>\n      <td>Bb major</td>\n      <td>4/4</td>\n    </tr>\n    <tr>\n      <td>4</td>\n      <td>Boys - Remastered 2009</td>\n      <td>The Beatles</td>\n      <td>Please Please Me (Remastered)</td>\n      <td>spotify:track:7JxGM1R32ZqfwZou3VtnTg</td>\n      <td>E major</td>\n      <td>4/4</td>\n    </tr>\n    <tr>\n      <td>...</td>\n      <td>...</td>\n      <td>...</td>\n      <td>...</td>\n      <td>...</td>\n      <td>...</td>\n      <td>...</td>\n    </tr>\n    <tr>\n      <td>435</td>\n      <td>Strawberry Fields Forever - Take 7</td>\n      <td>The Beatles</td>\n      <td>Sgt. Pepper's Lonely Hearts Club Band (Deluxe ...</td>\n      <td>spotify:track:766Skoghn3BUAVGrUpJ7n9</td>\n      <td>A minor</td>\n      <td>4/4</td>\n    </tr>\n    <tr>\n      <td>436</td>\n      <td>Strawberry Fields Forever - Take 26</td>\n      <td>The Beatles</td>\n      <td>Sgt. Pepper's Lonely Hearts Club Band (Deluxe ...</td>\n      <td>spotify:track:1Mkt1BqBK9D02g1iMmRkqq</td>\n      <td>C major</td>\n      <td>4/4</td>\n    </tr>\n    <tr>\n      <td>437</td>\n      <td>Strawberry Fields Forever - Stereo Mix 2015</td>\n      <td>The Beatles</td>\n      <td>Sgt. Pepper's Lonely Hearts Club Band (Deluxe ...</td>\n      <td>spotify:track:6B89krM9fveE6RqAWmonK9</td>\n      <td>Bb major</td>\n      <td>4/4</td>\n    </tr>\n    <tr>\n      <td>438</td>\n      <td>Penny Lane - Take 6 / Instrumental</td>\n      <td>The Beatles</td>\n      <td>Sgt. Pepper's Lonely Hearts Club Band (Deluxe ...</td>\n      <td>spotify:track:1Spno7RVP9d3wszxojPJXZ</td>\n      <td>C major</td>\n      <td>3/4</td>\n    </tr>\n    <tr>\n      <td>439</td>\n      <td>Penny Lane - Stereo Mix 2017</td>\n      <td>The Beatles</td>\n      <td>Sgt. Pepper's Lonely Hearts Club Band (Deluxe ...</td>\n      <td>spotify:track:6u3rpuWJCZv9wcYpjcxoOW</td>\n      <td>A major</td>\n      <td>4/4</td>\n    </tr>\n  </tbody>\n</table>\n<p>375 rows × 6 columns</p>\n</div>",
      "text/plain": "                                           title       artist  \\\n0     I Saw Her Standing There - Remastered 2009  The Beatles   \n1                       Misery - Remastered 2009  The Beatles   \n2             Anna (Go To Him) - Remastered 2009  The Beatles   \n3                       Chains - Remastered 2009  The Beatles   \n4                         Boys - Remastered 2009  The Beatles   \n..                                           ...          ...   \n435           Strawberry Fields Forever - Take 7  The Beatles   \n436          Strawberry Fields Forever - Take 26  The Beatles   \n437  Strawberry Fields Forever - Stereo Mix 2015  The Beatles   \n438           Penny Lane - Take 6 / Instrumental  The Beatles   \n439                 Penny Lane - Stereo Mix 2017  The Beatles   \n\n                                                 album  \\\n0                        Please Please Me (Remastered)   \n1                        Please Please Me (Remastered)   \n2                        Please Please Me (Remastered)   \n3                        Please Please Me (Remastered)   \n4                        Please Please Me (Remastered)   \n..                                                 ...   \n435  Sgt. Pepper's Lonely Hearts Club Band (Deluxe ...   \n436  Sgt. Pepper's Lonely Hearts Club Band (Deluxe ...   \n437  Sgt. Pepper's Lonely Hearts Club Band (Deluxe ...   \n438  Sgt. Pepper's Lonely Hearts Club Band (Deluxe ...   \n439  Sgt. Pepper's Lonely Hearts Club Band (Deluxe ...   \n\n                              spotify_uri key_signature time_signature  \n0    spotify:track:3KiexfmhxHvG5IgAElmTkd       E major            4/4  \n1    spotify:track:40qXGg5nRbcWzcFb26KWkQ       C major            4/4  \n2    spotify:track:2baEFuU0gQon0hgVRioI1o       D major            4/4  \n3    spotify:track:3JQWLa88R35d971o5bIImd      Bb major            4/4  \n4    spotify:track:7JxGM1R32ZqfwZou3VtnTg       E major            4/4  \n..                                    ...           ...            ...  \n435  spotify:track:766Skoghn3BUAVGrUpJ7n9       A minor            4/4  \n436  spotify:track:1Mkt1BqBK9D02g1iMmRkqq       C major            4/4  \n437  spotify:track:6B89krM9fveE6RqAWmonK9      Bb major            4/4  \n438  spotify:track:1Spno7RVP9d3wszxojPJXZ       C major            3/4  \n439  spotify:track:6u3rpuWJCZv9wcYpjcxoOW       A major            4/4  \n\n[375 rows x 6 columns]"
     },
     "execution_count": 183,
     "metadata": {},
     "output_type": "execute_result"
    }
   ],
   "source": [
    "results = get_results(get_input(), 1)\n",
    "df = create_df(results)\n",
    "\n",
    "uris = list(df['spotify_uri'])\n",
    "\n",
    "key_col = []\n",
    "time_col = []\n",
    "\n",
    "for uri in uris:\n",
    "    response = get_features(uri)\n",
    "    ks, ts = key_time_finder(response)\n",
    "    key_col.append(ks)\n",
    "    time_col.append(ts)\n",
    "\n",
    "df['key_signature'] = key_col\n",
    "df['time_signature'] = time_col\n",
    "\n",
    "\n",
    "df = df.dropna()\n",
    "df"
   ]
  },
  {
   "cell_type": "code",
   "execution_count": 184,
   "metadata": {},
   "outputs": [
    {
     "data": {
      "text/plain": "D major        69\nC major        60\nA major        59\nE major        34\nF major        26\nA minor        16\nE minor        13\nB minor        13\nAb major       12\nF# minor       11\nC# minor       10\nC#/Db major     9\nBb major        8\nD minor         7\nB major         5\nF#/Gb major     5\nG#/Ab minor     5\nC minor         4\nEb major        3\nF minor         3\nD#/Eb minor     2\nG, G minor      1\nName: key_signature, dtype: int64"
     },
     "execution_count": 184,
     "metadata": {},
     "output_type": "execute_result"
    }
   ],
   "source": [
    "df['key_signature'].value_counts()"
   ]
  },
  {
   "cell_type": "code",
   "execution_count": 185,
   "metadata": {},
   "outputs": [],
   "source": [
    "df.to_csv('output.csv', index = False)"
   ]
  },
  {
   "cell_type": "code",
   "execution_count": null,
   "metadata": {},
   "outputs": [],
   "source": []
  }
 ]
}