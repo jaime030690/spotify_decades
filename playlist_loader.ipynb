{
 "nbformat": 4,
 "nbformat_minor": 2,
 "metadata": {
  "language_info": {
   "name": "python",
   "codemirror_mode": {
    "name": "ipython",
    "version": 3
   },
   "version": "3.7.4-final"
  },
  "orig_nbformat": 2,
  "file_extension": ".py",
  "mimetype": "text/x-python",
  "name": "python",
  "npconvert_exporter": "python",
  "pygments_lexer": "ipython3",
  "version": 3,
  "kernelspec": {
   "name": "python37464bitbaseconda7bc3910bbe4a4c1e89b80bb43883e8bc",
   "display_name": "Python 3.7.4 64-bit ('base': conda)"
  }
 },
 "cells": [
  {
   "cell_type": "code",
   "execution_count": 107,
   "metadata": {},
   "outputs": [],
   "source": [
    "# Dependencies.\n",
    "import pandas as pd\n",
    "from config import client_id, client_secret\n",
    "from params import key_signatures, modes\n",
    "import os\n",
    "import spotipy\n",
    "from spotipy.oauth2 import SpotifyClientCredentials\n",
    "from pprint import pprint\n",
    "\n",
    "# Load variables to environment.\n",
    "os.environ['SPOTIPY_CLIENT_ID'] = client_id\n",
    "os.environ['SPOTIPY_CLIENT_SECRET'] = client_secret"
   ]
  },
  {
   "cell_type": "code",
   "execution_count": 108,
   "metadata": {},
   "outputs": [],
   "source": [
    "# Function to obtain user's input.\n",
    "def get_input():\n",
    "\n",
    "    user_input = input('Enter the playlist URI: ')\n",
    "\n",
    "    return user_input"
   ]
  },
  {
   "cell_type": "code",
   "execution_count": 109,
   "metadata": {},
   "outputs": [],
   "source": [
    "# Function to perform API call and return results in JSON format.\n",
    "def get_results(t, o):\n",
    "\n",
    "    sp = spotipy.Spotify(client_credentials_manager = SpotifyClientCredentials())\n",
    "\n",
    "    # Check if string contains 'https', the ref['next'] will contain this if the list has more than 100 songs.\n",
    "    if 'https' in t:\n",
    "\n",
    "        # Split the string in URL using '/'\n",
    "        split = t.split('/')\n",
    "\n",
    "        # Split list index 5 will contain part of URI, multiple o by 100 for the offset in the function call.\n",
    "        results = sp.playlist_tracks('spotify:playlist:' + split[5], offset = o * 100)\n",
    "\n",
    "    else:\n",
    "        results = sp.playlist_tracks(t)\n",
    "\n",
    "    return results"
   ]
  },
  {
   "cell_type": "code",
   "execution_count": 110,
   "metadata": {},
   "outputs": [],
   "source": [
    "# Function to create dict with data.\n",
    "def create_df(results):\n",
    "\n",
    "    # Empty dict to hold data from Spotify.\n",
    "    data = {\n",
    "        'title': [],\n",
    "        'artist': [],\n",
    "        'album': [], \n",
    "        'spotify_uri': []\n",
    "    }\n",
    "\n",
    "    # Loop control.\n",
    "    loop = True\n",
    "\n",
    "    # Results as json object.\n",
    "    ref = results\n",
    "\n",
    "    # Offset variable.\n",
    "    offset = 0\n",
    "\n",
    "    while loop:\n",
    "\n",
    "        # Adds values to dict.\n",
    "        for song in ref['items']:\n",
    "            data['title'].append(song['track']['name'])\n",
    "            data['artist'].append(song['track']['artists'][0]['name'])\n",
    "            data['album'].append(song['track']['album']['name'])\n",
    "            data['spotify_uri'].append(song['track']['uri'])\n",
    "\n",
    "        # Check for ref['next'], if there's text then playlist has more items.\n",
    "        if ref['next'] is not None:\n",
    "            offset += 1\n",
    "            ref = get_results(ref['next'], offset)\n",
    "        \n",
    "        # Terminate loop.\n",
    "        else:\n",
    "            loop = False\n",
    "\n",
    "    return pd.DataFrame(data)"
   ]
  },
  {
   "cell_type": "code",
   "execution_count": 113,
   "metadata": {},
   "outputs": [
    {
     "data": {
      "text/html": "<div>\n<style scoped>\n    .dataframe tbody tr th:only-of-type {\n        vertical-align: middle;\n    }\n\n    .dataframe tbody tr th {\n        vertical-align: top;\n    }\n\n    .dataframe thead th {\n        text-align: right;\n    }\n</style>\n<table border=\"1\" class=\"dataframe\">\n  <thead>\n    <tr style=\"text-align: right;\">\n      <th></th>\n      <th>title</th>\n      <th>artist</th>\n      <th>album</th>\n      <th>spotify_uri</th>\n    </tr>\n  </thead>\n  <tbody>\n    <tr>\n      <td>0</td>\n      <td>Fomo For Kids</td>\n      <td>Tin Fingers</td>\n      <td>Fomo For Kids</td>\n      <td>spotify:track:0QhIdrs2gOaJMNYDy0ymoD</td>\n    </tr>\n    <tr>\n      <td>1</td>\n      <td>I Wanna Feel Love</td>\n      <td>Julia Bardo</td>\n      <td>I Wanna Feel Love</td>\n      <td>spotify:track:4CX7d00rNq3p0b2cIb09cD</td>\n    </tr>\n    <tr>\n      <td>2</td>\n      <td>It's Just You</td>\n      <td>Nancy</td>\n      <td>It's Just You</td>\n      <td>spotify:track:0zopMDe5eVsA1V8ctbnMIc</td>\n    </tr>\n    <tr>\n      <td>3</td>\n      <td>Quit Fucking Around</td>\n      <td>Francis of Delirium</td>\n      <td>Quit Fucking Around</td>\n      <td>spotify:track:1ADoRbqBUBL5XvWrj617lv</td>\n    </tr>\n    <tr>\n      <td>4</td>\n      <td>Workin' Me</td>\n      <td>Mopac</td>\n      <td>Workin' Me</td>\n      <td>spotify:track:41z07rsA73evTCB6IBgMKu</td>\n    </tr>\n    <tr>\n      <td>5</td>\n      <td>Small Hours</td>\n      <td>Trends</td>\n      <td>Palettes</td>\n      <td>spotify:track:3NgajJXdcx84cmzfmp7uxR</td>\n    </tr>\n    <tr>\n      <td>6</td>\n      <td>Eulogies</td>\n      <td>Alex Chilltown</td>\n      <td>Eulogies</td>\n      <td>spotify:track:7b1KDHYGnKRAvBlJDtJbw3</td>\n    </tr>\n    <tr>\n      <td>7</td>\n      <td>Keeping Up Appearances</td>\n      <td>Basic Plumbing</td>\n      <td>Keeping Up Appearances</td>\n      <td>spotify:track:5JDcZWO4jIczcHYz42QTOa</td>\n    </tr>\n    <tr>\n      <td>8</td>\n      <td>Crushed by Fear Destroyer</td>\n      <td>Arbor Labor Union</td>\n      <td>Crushed by Fear Destroyer</td>\n      <td>spotify:track:0SMCtvkzZVDhY4Qsclaizc</td>\n    </tr>\n    <tr>\n      <td>9</td>\n      <td>Softly</td>\n      <td>Neighbours Burning Neighbours</td>\n      <td>Softly</td>\n      <td>spotify:track:3AORYQjGVYmjlNFPYRhcXL</td>\n    </tr>\n    <tr>\n      <td>10</td>\n      <td>T.I.N.A.S.S. (This Is Not a Surf Song)</td>\n      <td>Tien Ton Vuist</td>\n      <td>T.I.N.A.S.S. (This Is Not a Surf Song)</td>\n      <td>spotify:track:19QSj2PtMhCdaGhxOUeZqc</td>\n    </tr>\n    <tr>\n      <td>11</td>\n      <td>Control</td>\n      <td>Paragon</td>\n      <td>Control</td>\n      <td>spotify:track:3vXZx5EeHFmBVMyLLlbEQs</td>\n    </tr>\n    <tr>\n      <td>12</td>\n      <td>Route 9</td>\n      <td>American Beauty</td>\n      <td>American Beauty</td>\n      <td>spotify:track:3aIlb4ZWaHxhIV65S1PUCo</td>\n    </tr>\n    <tr>\n      <td>13</td>\n      <td>Future Aladdin</td>\n      <td>Dux Louie</td>\n      <td>Future Aladdin</td>\n      <td>spotify:track:1aecHhunufrDAEYw0ZPWtN</td>\n    </tr>\n    <tr>\n      <td>14</td>\n      <td>Lucky Me</td>\n      <td>Glowbug</td>\n      <td>Lucky Me</td>\n      <td>spotify:track:712TLzzP8PrUMUpV9ejAl0</td>\n    </tr>\n    <tr>\n      <td>15</td>\n      <td>Dutch Courage</td>\n      <td>Pit Pony</td>\n      <td>Dutch Courage</td>\n      <td>spotify:track:6kQmrit1q7b5BR6CvxpO99</td>\n    </tr>\n    <tr>\n      <td>16</td>\n      <td>Emma-O</td>\n      <td>Glowbug</td>\n      <td>Emma-O</td>\n      <td>spotify:track:7lg38lo0GbfjIM9OkCu7BW</td>\n    </tr>\n    <tr>\n      <td>17</td>\n      <td>The Shore</td>\n      <td>CIEL</td>\n      <td>The Shore</td>\n      <td>spotify:track:42rVOdWvyaWOV7FkSohVE0</td>\n    </tr>\n    <tr>\n      <td>18</td>\n      <td>Same</td>\n      <td>NO WIN</td>\n      <td>Same</td>\n      <td>spotify:track:1ViPB05S7ewv1Udcd39MjE</td>\n    </tr>\n    <tr>\n      <td>19</td>\n      <td>Post-Dick Circle Fuck</td>\n      <td>Pet Shimmers</td>\n      <td>Post-Dick Circle Fuck</td>\n      <td>spotify:track:6CgVcohASdNLjczwI7rUxS</td>\n    </tr>\n    <tr>\n      <td>20</td>\n      <td>One Day</td>\n      <td>Ali Aiman</td>\n      <td>One Day</td>\n      <td>spotify:track:2DUxQneG6gDtqUFYZqWPPw</td>\n    </tr>\n    <tr>\n      <td>21</td>\n      <td>Victor's Belt</td>\n      <td>Jaialai</td>\n      <td>Victor's Belt</td>\n      <td>spotify:track:103SLYASMHdoZq1Ls6r2hR</td>\n    </tr>\n    <tr>\n      <td>22</td>\n      <td>On Top</td>\n      <td>The Novacs</td>\n      <td>On Top</td>\n      <td>spotify:track:0HoKb1wjHe6fGBTxNOcFHr</td>\n    </tr>\n    <tr>\n      <td>23</td>\n      <td>French Exit</td>\n      <td>Cuffed Up</td>\n      <td>French Exit</td>\n      <td>spotify:track:0YaV6ZPpMADwHeGcMosRM3</td>\n    </tr>\n    <tr>\n      <td>24</td>\n      <td>Girl of the Forest</td>\n      <td>Death Cow</td>\n      <td>Girl of the Forest</td>\n      <td>spotify:track:3eoITcPVBBmqtJsmNMxYwW</td>\n    </tr>\n    <tr>\n      <td>25</td>\n      <td>Olivine</td>\n      <td>Drowsy</td>\n      <td>Olivine</td>\n      <td>spotify:track:1aDwykLE1zJLe0RgNkvyzM</td>\n    </tr>\n    <tr>\n      <td>26</td>\n      <td>home is a roach motel</td>\n      <td>Harper's Jar</td>\n      <td>home is a roach motel</td>\n      <td>spotify:track:7MLBGLJlMiNjGVWkeSVFjJ</td>\n    </tr>\n    <tr>\n      <td>27</td>\n      <td>I Don't Mind</td>\n      <td>Ursula</td>\n      <td>I Don't Mind</td>\n      <td>spotify:track:4dHWIXpFbNNPAixmzJAdgg</td>\n    </tr>\n    <tr>\n      <td>28</td>\n      <td>Tiny Car</td>\n      <td>Hannah Blackburn</td>\n      <td>Tiny Car</td>\n      <td>spotify:track:75qckTvoPDgVGgcYyyNprO</td>\n    </tr>\n    <tr>\n      <td>29</td>\n      <td>Again</td>\n      <td>Pom Pom Squad</td>\n      <td>Ow</td>\n      <td>spotify:track:7w0dk0zSzxkiw0YgwgI3fb</td>\n    </tr>\n    <tr>\n      <td>30</td>\n      <td>Better</td>\n      <td>Western Settings</td>\n      <td>Another Year</td>\n      <td>spotify:track:63LsHRja9EkWERUmioKuNP</td>\n    </tr>\n    <tr>\n      <td>31</td>\n      <td>Tumbledown</td>\n      <td>Strangepride</td>\n      <td>We'll Take It from Here</td>\n      <td>spotify:track:4rYWMuhLbvaEWDutmqFLWC</td>\n    </tr>\n    <tr>\n      <td>32</td>\n      <td>Big</td>\n      <td>Western Settings</td>\n      <td>Another Year</td>\n      <td>spotify:track:23QHvGDxwroxfh8HiR10CI</td>\n    </tr>\n    <tr>\n      <td>33</td>\n      <td>Science Is Science</td>\n      <td>Kal Marks</td>\n      <td>Science Is Science</td>\n      <td>spotify:track:27rXGllLW6jdHbIRuejx49</td>\n    </tr>\n    <tr>\n      <td>34</td>\n      <td>Broken</td>\n      <td>My Life Story</td>\n      <td>World Citizen</td>\n      <td>spotify:track:0FHo5PzI5glQHMf2aUCt0y</td>\n    </tr>\n    <tr>\n      <td>35</td>\n      <td>Had to Be Said</td>\n      <td>Highline</td>\n      <td>Had to Be Said</td>\n      <td>spotify:track:2oCcT7mFC7bl7immULi8tF</td>\n    </tr>\n    <tr>\n      <td>36</td>\n      <td>Erased</td>\n      <td>Radioactivity</td>\n      <td>Erased / Fear</td>\n      <td>spotify:track:5uDZoKlfnZnH2HVSepWyOz</td>\n    </tr>\n    <tr>\n      <td>37</td>\n      <td>Awkward</td>\n      <td>Ghost Car</td>\n      <td>Awkward</td>\n      <td>spotify:track:1ZznxV1QWXL0XtlvTaOf2k</td>\n    </tr>\n    <tr>\n      <td>38</td>\n      <td>Best Laid Plans</td>\n      <td>Harmony Woods</td>\n      <td>Best Laid Plans</td>\n      <td>spotify:track:0e3kSakgxe59hlyOg1K6Cj</td>\n    </tr>\n    <tr>\n      <td>39</td>\n      <td>Tongue &amp; Cheek</td>\n      <td>Ethanol Blend</td>\n      <td>Tongue &amp; Cheek</td>\n      <td>spotify:track:2v8HKToNAAoyxJwn8cKHu9</td>\n    </tr>\n    <tr>\n      <td>40</td>\n      <td>Friends</td>\n      <td>Surf Trash</td>\n      <td>Friends</td>\n      <td>spotify:track:33w9r5aqa49go6ZMdELMQR</td>\n    </tr>\n    <tr>\n      <td>41</td>\n      <td>Seed</td>\n      <td>Yendawg</td>\n      <td>Seed</td>\n      <td>spotify:track:5MfAsozh01yhLhfmb2GlYM</td>\n    </tr>\n    <tr>\n      <td>42</td>\n      <td>Take Control</td>\n      <td>The Mysterines</td>\n      <td>Take Control EP</td>\n      <td>spotify:track:4ayIpClJzUh43tJgzyPI9f</td>\n    </tr>\n  </tbody>\n</table>\n</div>",
      "text/plain": "                                     title                         artist  \\\n0                            Fomo For Kids                    Tin Fingers   \n1                        I Wanna Feel Love                    Julia Bardo   \n2                            It's Just You                          Nancy   \n3                      Quit Fucking Around            Francis of Delirium   \n4                               Workin' Me                          Mopac   \n5                              Small Hours                         Trends   \n6                                 Eulogies                 Alex Chilltown   \n7                   Keeping Up Appearances                 Basic Plumbing   \n8                Crushed by Fear Destroyer              Arbor Labor Union   \n9                                   Softly  Neighbours Burning Neighbours   \n10  T.I.N.A.S.S. (This Is Not a Surf Song)                 Tien Ton Vuist   \n11                                 Control                        Paragon   \n12                                 Route 9                American Beauty   \n13                          Future Aladdin                      Dux Louie   \n14                                Lucky Me                        Glowbug   \n15                           Dutch Courage                       Pit Pony   \n16                                  Emma-O                        Glowbug   \n17                               The Shore                           CIEL   \n18                                    Same                         NO WIN   \n19                   Post-Dick Circle Fuck                   Pet Shimmers   \n20                                 One Day                      Ali Aiman   \n21                           Victor's Belt                        Jaialai   \n22                                  On Top                     The Novacs   \n23                             French Exit                      Cuffed Up   \n24                      Girl of the Forest                      Death Cow   \n25                                 Olivine                         Drowsy   \n26                   home is a roach motel                   Harper's Jar   \n27                            I Don't Mind                         Ursula   \n28                                Tiny Car               Hannah Blackburn   \n29                                   Again                  Pom Pom Squad   \n30                                  Better               Western Settings   \n31                              Tumbledown                   Strangepride   \n32                                     Big               Western Settings   \n33                      Science Is Science                      Kal Marks   \n34                                  Broken                  My Life Story   \n35                          Had to Be Said                       Highline   \n36                                  Erased                  Radioactivity   \n37                                 Awkward                      Ghost Car   \n38                         Best Laid Plans                  Harmony Woods   \n39                          Tongue & Cheek                  Ethanol Blend   \n40                                 Friends                     Surf Trash   \n41                                    Seed                        Yendawg   \n42                            Take Control                 The Mysterines   \n\n                                     album  \\\n0                            Fomo For Kids   \n1                        I Wanna Feel Love   \n2                            It's Just You   \n3                      Quit Fucking Around   \n4                               Workin' Me   \n5                                 Palettes   \n6                                 Eulogies   \n7                   Keeping Up Appearances   \n8                Crushed by Fear Destroyer   \n9                                   Softly   \n10  T.I.N.A.S.S. (This Is Not a Surf Song)   \n11                                 Control   \n12                         American Beauty   \n13                          Future Aladdin   \n14                                Lucky Me   \n15                           Dutch Courage   \n16                                  Emma-O   \n17                               The Shore   \n18                                    Same   \n19                   Post-Dick Circle Fuck   \n20                                 One Day   \n21                           Victor's Belt   \n22                                  On Top   \n23                             French Exit   \n24                      Girl of the Forest   \n25                                 Olivine   \n26                   home is a roach motel   \n27                            I Don't Mind   \n28                                Tiny Car   \n29                                      Ow   \n30                            Another Year   \n31                 We'll Take It from Here   \n32                            Another Year   \n33                      Science Is Science   \n34                           World Citizen   \n35                          Had to Be Said   \n36                           Erased / Fear   \n37                                 Awkward   \n38                         Best Laid Plans   \n39                          Tongue & Cheek   \n40                                 Friends   \n41                                    Seed   \n42                         Take Control EP   \n\n                             spotify_uri  \n0   spotify:track:0QhIdrs2gOaJMNYDy0ymoD  \n1   spotify:track:4CX7d00rNq3p0b2cIb09cD  \n2   spotify:track:0zopMDe5eVsA1V8ctbnMIc  \n3   spotify:track:1ADoRbqBUBL5XvWrj617lv  \n4   spotify:track:41z07rsA73evTCB6IBgMKu  \n5   spotify:track:3NgajJXdcx84cmzfmp7uxR  \n6   spotify:track:7b1KDHYGnKRAvBlJDtJbw3  \n7   spotify:track:5JDcZWO4jIczcHYz42QTOa  \n8   spotify:track:0SMCtvkzZVDhY4Qsclaizc  \n9   spotify:track:3AORYQjGVYmjlNFPYRhcXL  \n10  spotify:track:19QSj2PtMhCdaGhxOUeZqc  \n11  spotify:track:3vXZx5EeHFmBVMyLLlbEQs  \n12  spotify:track:3aIlb4ZWaHxhIV65S1PUCo  \n13  spotify:track:1aecHhunufrDAEYw0ZPWtN  \n14  spotify:track:712TLzzP8PrUMUpV9ejAl0  \n15  spotify:track:6kQmrit1q7b5BR6CvxpO99  \n16  spotify:track:7lg38lo0GbfjIM9OkCu7BW  \n17  spotify:track:42rVOdWvyaWOV7FkSohVE0  \n18  spotify:track:1ViPB05S7ewv1Udcd39MjE  \n19  spotify:track:6CgVcohASdNLjczwI7rUxS  \n20  spotify:track:2DUxQneG6gDtqUFYZqWPPw  \n21  spotify:track:103SLYASMHdoZq1Ls6r2hR  \n22  spotify:track:0HoKb1wjHe6fGBTxNOcFHr  \n23  spotify:track:0YaV6ZPpMADwHeGcMosRM3  \n24  spotify:track:3eoITcPVBBmqtJsmNMxYwW  \n25  spotify:track:1aDwykLE1zJLe0RgNkvyzM  \n26  spotify:track:7MLBGLJlMiNjGVWkeSVFjJ  \n27  spotify:track:4dHWIXpFbNNPAixmzJAdgg  \n28  spotify:track:75qckTvoPDgVGgcYyyNprO  \n29  spotify:track:7w0dk0zSzxkiw0YgwgI3fb  \n30  spotify:track:63LsHRja9EkWERUmioKuNP  \n31  spotify:track:4rYWMuhLbvaEWDutmqFLWC  \n32  spotify:track:23QHvGDxwroxfh8HiR10CI  \n33  spotify:track:27rXGllLW6jdHbIRuejx49  \n34  spotify:track:0FHo5PzI5glQHMf2aUCt0y  \n35  spotify:track:2oCcT7mFC7bl7immULi8tF  \n36  spotify:track:5uDZoKlfnZnH2HVSepWyOz  \n37  spotify:track:1ZznxV1QWXL0XtlvTaOf2k  \n38  spotify:track:0e3kSakgxe59hlyOg1K6Cj  \n39  spotify:track:2v8HKToNAAoyxJwn8cKHu9  \n40  spotify:track:33w9r5aqa49go6ZMdELMQR  \n41  spotify:track:5MfAsozh01yhLhfmb2GlYM  \n42  spotify:track:4ayIpClJzUh43tJgzyPI9f  "
     },
     "execution_count": 113,
     "metadata": {},
     "output_type": "execute_result"
    }
   ],
   "source": [
    "results = get_results(get_input(), 1)\n",
    "df = create_df(results)\n",
    "df"
   ]
  },
  {
   "cell_type": "code",
   "execution_count": null,
   "metadata": {},
   "outputs": [],
   "source": []
  }
 ]
}