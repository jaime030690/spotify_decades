{
 "nbformat": 4,
 "nbformat_minor": 2,
 "metadata": {
  "language_info": {
   "name": "python",
   "codemirror_mode": {
    "name": "ipython",
    "version": 3
   },
   "version": "3.7.4-final"
  },
  "orig_nbformat": 2,
  "file_extension": ".py",
  "mimetype": "text/x-python",
  "name": "python",
  "npconvert_exporter": "python",
  "pygments_lexer": "ipython3",
  "version": 3,
  "kernelspec": {
   "name": "python37464bitbasecondaeb15dd16a5f74df4a7bc85322ce0ad17",
   "display_name": "Python 3.7.4 64-bit ('base': conda)"
  }
 },
 "cells": [
  {
   "cell_type": "code",
   "execution_count": 128,
   "metadata": {},
   "outputs": [],
   "source": [
    "# Dependencies.\n",
    "import pandas as pd\n",
    "from config import client_id, client_secret\n",
    "from params import key_signatures, modes, key_int\n",
    "import os\n",
    "import spotipy\n",
    "from spotipy.oauth2 import SpotifyClientCredentials\n",
    "from pprint import pprint\n",
    "import numpy as np\n",
    "\n",
    "# Load variables to environment.\n",
    "os.environ['SPOTIPY_CLIENT_ID'] = client_id\n",
    "os.environ['SPOTIPY_CLIENT_SECRET'] = client_secret"
   ]
  },
  {
   "cell_type": "code",
   "execution_count": 129,
   "metadata": {},
   "outputs": [],
   "source": [
    "# Function to obtain user's input.\n",
    "def get_input():\n",
    "\n",
    "    user_input = input('Enter the playlist URI: ')\n",
    "\n",
    "    return user_input"
   ]
  },
  {
   "cell_type": "code",
   "execution_count": 130,
   "metadata": {},
   "outputs": [],
   "source": [
    "# Function to perform API call and return results in JSON format.\n",
    "def get_results(t, o):\n",
    "\n",
    "    sp = spotipy.Spotify(client_credentials_manager = SpotifyClientCredentials())\n",
    "\n",
    "    # Check if string contains 'https', the ref['next'] will contain this if the list has more than 100 songs.\n",
    "    if 'https' in t:\n",
    "\n",
    "        # Split the string in URL using '/'\n",
    "        split = t.split('/')\n",
    "\n",
    "        # Split list index 5 will contain part of URI, multiple o by 100 for the offset in the function call.\n",
    "        results = sp.playlist_tracks('spotify:playlist:' + split[5], offset = o * 100)\n",
    "\n",
    "    else:\n",
    "        results = sp.playlist_tracks(t)\n",
    "\n",
    "    return results"
   ]
  },
  {
   "cell_type": "code",
   "execution_count": 131,
   "metadata": {},
   "outputs": [],
   "source": [
    "# Function to create dict with data.\n",
    "def create_df(results):\n",
    "\n",
    "    # Empty dict to hold data from Spotify.\n",
    "    data = {\n",
    "        'track': [],\n",
    "        'artist': [],\n",
    "        'uri': []\n",
    "    }\n",
    "\n",
    "    # Loop control.\n",
    "    loop = True\n",
    "\n",
    "    # Results as json object.\n",
    "    ref = results\n",
    "\n",
    "    # Offset variable.\n",
    "    offset = 0\n",
    "\n",
    "    while loop:\n",
    "\n",
    "        # Adds values to dict.\n",
    "        for song in ref['items']:\n",
    "            data['track'].append(song['track']['name'])\n",
    "            data['artist'].append(song['track']['artists'][0]['name'])\n",
    "            data['uri'].append(song['track']['uri'])\n",
    "\n",
    "        # Check for ref['next'], if there's text then playlist has more items.\n",
    "        if ref['next'] is not None:\n",
    "            offset += 1\n",
    "            ref = get_results(ref['next'], offset)\n",
    "        \n",
    "        # Terminate loop.\n",
    "        else:\n",
    "            loop = False\n",
    "\n",
    "    return pd.DataFrame(data)"
   ]
  },
  {
   "cell_type": "code",
   "execution_count": 132,
   "metadata": {},
   "outputs": [],
   "source": [
    "# Function to perform API call for audio features and return results in JSON format.\n",
    "def get_features(t):\n",
    "\n",
    "    sp = spotipy.Spotify(client_credentials_manager = SpotifyClientCredentials())\n",
    "\n",
    "    results = sp.audio_features(t)\n",
    "\n",
    "    return results"
   ]
  },
  {
   "cell_type": "code",
   "execution_count": 133,
   "metadata": {},
   "outputs": [],
   "source": [
    "# Function to find the time key signatures of the song.\n",
    "def features_finder(results):\n",
    "\n",
    "    try:\n",
    "\n",
    "        m = results[0]['mode']\n",
    "\n",
    "        k = results[0]['key']\n",
    "\n",
    "        t = results[0]['time_signature']\n",
    "\n",
    "        b = results[0]['tempo']\n",
    "    \n",
    "    except IndexError:\n",
    "        \n",
    "        return np.NaN, np.NaN, np.NaN, np.NaN\n",
    "    \n",
    "    return m, k, t, b"
   ]
  },
  {
   "cell_type": "code",
   "execution_count": 134,
   "metadata": {},
   "outputs": [
    {
     "data": {
      "text/html": "<div>\n<style scoped>\n    .dataframe tbody tr th:only-of-type {\n        vertical-align: middle;\n    }\n\n    .dataframe tbody tr th {\n        vertical-align: top;\n    }\n\n    .dataframe thead th {\n        text-align: right;\n    }\n</style>\n<table border=\"1\" class=\"dataframe\">\n  <thead>\n    <tr style=\"text-align: right;\">\n      <th></th>\n      <th>track</th>\n      <th>artist</th>\n      <th>uri</th>\n      <th>mode</th>\n      <th>key_signature</th>\n      <th>key_integer</th>\n      <th>time_signature</th>\n      <th>bpm</th>\n    </tr>\n  </thead>\n  <tbody>\n    <tr>\n      <td>0</td>\n      <td>Checkmate</td>\n      <td>Lamb of God</td>\n      <td>spotify:track:6q72OHGM81Zs5q5jx7YZLR</td>\n      <td>1</td>\n      <td>2</td>\n      <td>2</td>\n      <td>4</td>\n      <td>119.980</td>\n    </tr>\n    <tr>\n      <td>1</td>\n      <td>Inside Out</td>\n      <td>Five Finger Death Punch</td>\n      <td>spotify:track:4Htt3QaBWdLggq88rJI5MU</td>\n      <td>0</td>\n      <td>4</td>\n      <td>1</td>\n      <td>4</td>\n      <td>82.997</td>\n    </tr>\n    <tr>\n      <td>2</td>\n      <td>The End of All We Know</td>\n      <td>Bleed From Within</td>\n      <td>spotify:track:14EXZEog1hW97d6yz8ejih</td>\n      <td>0</td>\n      <td>6</td>\n      <td>3</td>\n      <td>3</td>\n      <td>149.406</td>\n    </tr>\n    <tr>\n      <td>3</td>\n      <td>Nero Forte</td>\n      <td>Slipknot</td>\n      <td>spotify:track:56fiFTRrSiHHH3gBeaTg2P</td>\n      <td>1</td>\n      <td>7</td>\n      <td>1</td>\n      <td>4</td>\n      <td>129.842</td>\n    </tr>\n    <tr>\n      <td>4</td>\n      <td>Noise</td>\n      <td>Nightwish</td>\n      <td>spotify:track:2a3sZJP4uTrNQbj0EdiUuV</td>\n      <td>1</td>\n      <td>2</td>\n      <td>2</td>\n      <td>4</td>\n      <td>76.976</td>\n    </tr>\n    <tr>\n      <td>...</td>\n      <td>...</td>\n      <td>...</td>\n      <td>...</td>\n      <td>...</td>\n      <td>...</td>\n      <td>...</td>\n      <td>...</td>\n      <td>...</td>\n    </tr>\n    <tr>\n      <td>56</td>\n      <td>Fade</td>\n      <td>Catch Your Breath</td>\n      <td>spotify:track:6GS7dWKyY8vCJHaThLZVEz</td>\n      <td>1</td>\n      <td>2</td>\n      <td>2</td>\n      <td>4</td>\n      <td>119.978</td>\n    </tr>\n    <tr>\n      <td>57</td>\n      <td>Counterfeit</td>\n      <td>Wolves At The Gate</td>\n      <td>spotify:track:0nER4VGgRAjyxtM9f1H43I</td>\n      <td>1</td>\n      <td>1</td>\n      <td>-5</td>\n      <td>4</td>\n      <td>95.009</td>\n    </tr>\n    <tr>\n      <td>58</td>\n      <td>The Red Baron</td>\n      <td>Sabaton</td>\n      <td>spotify:track:2nb7KVajlFlcJG2mAZiDuG</td>\n      <td>0</td>\n      <td>0</td>\n      <td>-3</td>\n      <td>4</td>\n      <td>95.047</td>\n    </tr>\n    <tr>\n      <td>59</td>\n      <td>MAYDAY (feat. Ryo from Crystal Lake)</td>\n      <td>coldrain</td>\n      <td>spotify:track:2wJJNgD6GrKoQ435VxTRv6</td>\n      <td>0</td>\n      <td>10</td>\n      <td>-5</td>\n      <td>4</td>\n      <td>121.054</td>\n    </tr>\n    <tr>\n      <td>60</td>\n      <td>Protection</td>\n      <td>Alcest</td>\n      <td>spotify:track:44BNyVL3bgEMxwpn0cQ3Yo</td>\n      <td>1</td>\n      <td>6</td>\n      <td>6</td>\n      <td>3</td>\n      <td>145.627</td>\n    </tr>\n  </tbody>\n</table>\n<p>61 rows × 8 columns</p>\n</div>",
      "text/plain": "                                   track                   artist  \\\n0                              Checkmate              Lamb of God   \n1                             Inside Out  Five Finger Death Punch   \n2                 The End of All We Know        Bleed From Within   \n3                             Nero Forte                 Slipknot   \n4                                  Noise                Nightwish   \n..                                   ...                      ...   \n56                                  Fade        Catch Your Breath   \n57                           Counterfeit       Wolves At The Gate   \n58                         The Red Baron                  Sabaton   \n59  MAYDAY (feat. Ryo from Crystal Lake)                 coldrain   \n60                            Protection                   Alcest   \n\n                                     uri  mode  key_signature  key_integer  \\\n0   spotify:track:6q72OHGM81Zs5q5jx7YZLR     1              2            2   \n1   spotify:track:4Htt3QaBWdLggq88rJI5MU     0              4            1   \n2   spotify:track:14EXZEog1hW97d6yz8ejih     0              6            3   \n3   spotify:track:56fiFTRrSiHHH3gBeaTg2P     1              7            1   \n4   spotify:track:2a3sZJP4uTrNQbj0EdiUuV     1              2            2   \n..                                   ...   ...            ...          ...   \n56  spotify:track:6GS7dWKyY8vCJHaThLZVEz     1              2            2   \n57  spotify:track:0nER4VGgRAjyxtM9f1H43I     1              1           -5   \n58  spotify:track:2nb7KVajlFlcJG2mAZiDuG     0              0           -3   \n59  spotify:track:2wJJNgD6GrKoQ435VxTRv6     0             10           -5   \n60  spotify:track:44BNyVL3bgEMxwpn0cQ3Yo     1              6            6   \n\n    time_signature      bpm  \n0                4  119.980  \n1                4   82.997  \n2                3  149.406  \n3                4  129.842  \n4                4   76.976  \n..             ...      ...  \n56               4  119.978  \n57               4   95.009  \n58               4   95.047  \n59               4  121.054  \n60               3  145.627  \n\n[61 rows x 8 columns]"
     },
     "execution_count": 134,
     "metadata": {},
     "output_type": "execute_result"
    }
   ],
   "source": [
    "results = get_results(get_input(), 1)\n",
    "df = create_df(results)\n",
    "\n",
    "uris = list(df['uri'])\n",
    "\n",
    "md_col = []\n",
    "ks_col = []\n",
    "kint_col = []\n",
    "ts_col = []\n",
    "bpm_col = []\n",
    "\n",
    "for uri in uris:\n",
    "    response = get_features(uri)\n",
    "    md, ks, ts, bpm = features_finder(response)\n",
    "\n",
    "    md_col.append(md)\n",
    "    ks_col.append(ks)\n",
    "    kint_col.append(key_int[md][ks])\n",
    "    ts_col.append(ts)\n",
    "    bpm_col.append(bpm)\n",
    "\n",
    "\n",
    "df['mode'] = md_col\n",
    "df['key_signature'] = ks_col\n",
    "df['key_integer'] = kint_col\n",
    "df['time_signature'] = ts_col\n",
    "df['bpm'] = bpm_col\n",
    "\n",
    "\n",
    "df = df.dropna()\n",
    "df"
   ]
  },
  {
   "cell_type": "code",
   "execution_count": 138,
   "metadata": {},
   "outputs": [],
   "source": [
    "df.to_csv('output.csv', index = False)"
   ]
  },
  {
   "cell_type": "code",
   "execution_count": null,
   "metadata": {},
   "outputs": [],
   "source": []
  }
 ]
}